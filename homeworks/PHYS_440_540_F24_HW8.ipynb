{
 "cells": [
  {
   "cell_type": "markdown",
   "metadata": {},
   "source": [
    "# Homework 8: Problems\n",
    "## Due Wednesday 20 November, by 09:30am\n",
    "\n",
    "### PHYS 440/540, Fall 2024\n",
    "https://github.com/gtrichards/PHYS_440_540/\n",
    "\n",
    "\n",
    "## Problems 1\n",
    "\n",
    "Complete Chapter 1 in *Linear Classifiers in Python* in Data Camp.\n",
    "\n",
    "Then watch the video on Loss Functions from Chapter 2:\n",
    "https://campus.datacamp.com/courses/linear-classifiers-in-python/loss-functions?ex=7\n",
    "\n",
    "If you want more help with loss functions (although this is more technical than we need for class), see\n",
    "https://www.analyticsvidhya.com/blog/2019/08/detailed-guide-7-loss-functions-machine-learning-python-code/ \n",
    "\n",
    "\n",
    "## Problem 2\n",
    "\n",
    "Complete Chapter 4 in *Linear Classifiers in Python* in Data Camp.\n",
    "\n",
    "\n",
    "These lessons are very picky about the answers (e.g., np.max(blah) is right, but blah.max() is marked wrong), so I'll grade on completion.\n",
    "\n",
    "## Problem \n",
    "\n",
    "Complete Chapter 3 in *Machine Learning with Tree-Based Models in Python* in Data Camp."
   ]
  }
 ],
 "metadata": {
  "anaconda-cloud": {},
  "kernelspec": {
   "display_name": "Python 3 (ipykernel)",
   "language": "python",
   "name": "python3"
  },
  "language_info": {
   "codemirror_mode": {
    "name": "ipython",
    "version": 3
   },
   "file_extension": ".py",
   "mimetype": "text/x-python",
   "name": "python",
   "nbconvert_exporter": "python",
   "pygments_lexer": "ipython3",
   "version": "3.12.5"
  }
 },
 "nbformat": 4,
 "nbformat_minor": 4
}
